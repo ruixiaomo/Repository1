{
 "cells": [
  {
   "cell_type": "markdown",
   "metadata": {},
   "source": [
    "# Introduction"
   ]
  },
  {
   "cell_type": "markdown",
   "metadata": {},
   "source": [
    "The City of Seattle, is the city that most closely connected to Japan in the United States.\n",
    "It provides lot of oppourtunities and necessary environment for bussiness related to Japan. \n",
    "\n",
    "### Business problem\n",
    "Seattle is the hometown for many famous cuisines that was developed by the Japanese coming here, like teriyaki.\n",
    "Ramen or Sushi restaurants have become so popular in this area and even in the United States.\n",
    "Starting a sushi restaurant can be a great business opportunity, but it is necessary to distinguish yourself from others by ingredients and materials.\n",
    "\n",
    "If you plan a real restaurant that can demand higher prices for fresh fish, delivered daily from Japan, focus on neighborhoods and outlets that already attract a sophisticated Japanese client. \n",
    "If you plan a cheap buffet restaurant, points to the masses looking for affordable high-traffic locations with large shopping centers and other local points of interest. \n",
    "So it is evident that to survive in such competitive market it is very important to startegically plan. Various factors need to be studied inorder to decide on the Location\n",
    "\n",
    "### Target Audience\n",
    "My target audience is anyone who wants to open business in Seattle downtown, near the port, so I only focus on that borough during my analysis. \n",
    "The objective is to locate and recommend to the manager which neighborhood of Seattle will be best choice to start a restaurant.\n",
    "\n",
    "This would interest anyone who wants to start a new Japanese or seafood restaurant in Seattle."
   ]
  },
  {
   "cell_type": "code",
   "execution_count": null,
   "metadata": {},
   "outputs": [],
   "source": []
  }
 ],
 "metadata": {
  "kernelspec": {
   "display_name": "Python 3",
   "language": "python",
   "name": "python3"
  },
  "language_info": {
   "codemirror_mode": {
    "name": "ipython",
    "version": 3
   },
   "file_extension": ".py",
   "mimetype": "text/x-python",
   "name": "python",
   "nbconvert_exporter": "python",
   "pygments_lexer": "ipython3",
   "version": "3.7.3"
  }
 },
 "nbformat": 4,
 "nbformat_minor": 2
}
